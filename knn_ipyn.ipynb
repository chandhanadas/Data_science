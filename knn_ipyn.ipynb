{
  "nbformat": 4,
  "nbformat_minor": 0,
  "metadata": {
    "colab": {
      "provenance": [],
      "authorship_tag": "ABX9TyMMk39OdpTsKfpeBL9wZcoL",
      "include_colab_link": true
    },
    "kernelspec": {
      "name": "python3",
      "display_name": "Python 3"
    },
    "language_info": {
      "name": "python"
    }
  },
  "cells": [
    {
      "cell_type": "markdown",
      "metadata": {
        "id": "view-in-github",
        "colab_type": "text"
      },
      "source": [
        "<a href=\"https://colab.research.google.com/github/chandhanadas/Data_science/blob/main/knn_ipyn.ipynb\" target=\"_parent\"><img src=\"https://colab.research.google.com/assets/colab-badge.svg\" alt=\"Open In Colab\"/></a>"
      ]
    },
    {
      "cell_type": "code",
      "execution_count": null,
      "metadata": {
        "colab": {
          "base_uri": "https://localhost:8080/"
        },
        "id": "Den-fPlJHyli",
        "outputId": "5a4652de-8893-4bca-ff09-7314f3d6655c"
      },
      "outputs": [
        {
          "output_type": "execute_result",
          "data": {
            "text/plain": [
              "0.9333333333333333"
            ]
          },
          "metadata": {},
          "execution_count": 1
        }
      ],
      "source": [
        "import numpy as np\n",
        "import pandas as pd\n",
        "import matplotlib.pyplot as plt\n",
        "import sklearn\n",
        "from sklearn.preprocessing import StandardScaler\n",
        "from sklearn.model_selection import train_test_split\n",
        "from sklearn.neighbors import KNeighborsClassifier\n",
        "from sklearn.naive_bayes import GaussianNB\n",
        "data=pd.read_csv('iris.csv')\n",
        "data.head()\n",
        "data.tail()\n",
        "x=data.iloc[:,:4]\n",
        "x.head()\n",
        "y=data.iloc[:,-1]\n",
        "y.head()\n",
        "x_train,x_test,y_train,y_test=train_test_split(x,y,test_size=0.30)\n",
        "x_train.head()\n",
        "x_test.head()\n",
        "sc=StandardScaler()\n",
        "sc.fit(x_train)\n",
        "x_train=sc.transform(x_train)\n",
        "x_test=sc.transform(x_test)\n",
        "classifier=KNeighborsClassifier(n_neighbors=5)\n",
        "classifier.fit(x_train,y_train)\n",
        "y_pred=classifier.predict(x_test)\n",
        "y_pred\n",
        "y_test\n",
        "from sklearn.metrics import confusion_matrix,accuracy_score\n",
        "cm=confusion_matrix(y_test,y_pred)\n",
        "ac=accuracy_score(y_test,y_pred)\n",
        "cm\n",
        "ac\n"
      ]
    }
  ]
}