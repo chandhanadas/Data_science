{
  "nbformat": 4,
  "nbformat_minor": 0,
  "metadata": {
    "colab": {
      "provenance": [],
      "authorship_tag": "ABX9TyNoeuqdZ497kgzbIzSRWrYj",
      "include_colab_link": true
    },
    "kernelspec": {
      "name": "python3",
      "display_name": "Python 3"
    },
    "language_info": {
      "name": "python"
    }
  },
  "cells": [
    {
      "cell_type": "markdown",
      "metadata": {
        "id": "view-in-github",
        "colab_type": "text"
      },
      "source": [
        "<a href=\"https://colab.research.google.com/github/chandhanadas/Data_science/blob/main/linear_regression.ipynb\" target=\"_parent\"><img src=\"https://colab.research.google.com/assets/colab-badge.svg\" alt=\"Open In Colab\"/></a>"
      ]
    },
    {
      "cell_type": "code",
      "execution_count": null,
      "metadata": {
        "colab": {
          "base_uri": "https://localhost:8080/",
          "height": 282
        },
        "id": "7nJMb-7LtdT9",
        "outputId": "af76b0fb-8fc9-4fb5-e131-c1caa82c9220"
      },
      "outputs": [
        {
          "output_type": "execute_result",
          "data": {
            "text/plain": [
              "[<matplotlib.lines.Line2D at 0x7f36e8df3910>]"
            ]
          },
          "metadata": {},
          "execution_count": 2
        },
        {
          "output_type": "display_data",
          "data": {
            "text/plain": [
              "<Figure size 432x288 with 1 Axes>"
            ],
            "image/png": "[encoded data removed]"
          },
          "metadata": {
            "needs_background": "light"
          }
        }
      ],
      "source": [
        "import numpy as np\n",
        "import pandas as pd\n",
        "import matplotlib.pyplot as plt\n",
        "from sklearn.linear_model import LinearRegression\n",
        "from sklearn.model_selection import train_test_split\n",
        "from sklearn.metrics import mean_squared_error,r2_score\n",
        "\n",
        "data=pd.read_csv('diabetes.csv')\n",
        "data.head()\n",
        "\n",
        "x=data.iloc[:,7]\n",
        "x.head()\n",
        "\n",
        "y=data.iloc[:,6]\n",
        "y.head()\n",
        "\n",
        "x=np.array(x).reshape(-1,1)\n",
        "\n",
        "x\n",
        "\n",
        "y=np.array(y).reshape(-1,1)\n",
        "\n",
        "y\n",
        "\n",
        "x_train,x_test,y_train,y_test=train_test_split(x,y,test_size=20)\n",
        "\n",
        "classifier=LinearRegression()\n",
        "\n",
        "classifier.fit(x_train,y_train)\n",
        "\n",
        "y_pred=classifier.predict(x_test)\n",
        "y_pred\n",
        "r2_score(y_test,y_pred)\n",
        "mean_squared_error(y_test,y_pred)\n",
        "classifier.coef_\n",
        "plt.scatter(x_test,y_test,color='b')\n",
        "plt.plot(x_test,y_pred,color='k')\n"
      ]
    }
  ]
}