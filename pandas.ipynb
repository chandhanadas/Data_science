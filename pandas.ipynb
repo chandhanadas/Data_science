{
  "nbformat": 4,
  "nbformat_minor": 0,
  "metadata": {
    "colab": {
      "provenance": [],
      "authorship_tag": "ABX9TyOgGbUi/P2So8583WMRPzHE",
      "include_colab_link": true
    },
    "kernelspec": {
      "name": "python3",
      "display_name": "Python 3"
    },
    "language_info": {
      "name": "python"
    }
  },
  "cells": [
    {
      "cell_type": "markdown",
      "metadata": {
        "id": "view-in-github",
        "colab_type": "text"
      },
      "source": [
        "<a href=\"https://colab.research.google.com/github/chandhanadas/Data_science/blob/main/pandas.ipynb\" target=\"_parent\"><img src=\"https://colab.research.google.com/assets/colab-badge.svg\" alt=\"Open In Colab\"/></a>"
      ]
    },
    {
      "cell_type": "code",
      "execution_count": null,
      "metadata": {
        "colab": {
          "base_uri": "https://localhost:8080/"
        },
        "id": "hzYv1gDqn3CT",
        "outputId": "c3b58031-13e0-4821-8d6b-169957d74edb"
      },
      "outputs": [
        {
          "output_type": "stream",
          "name": "stdout",
          "text": [
            "0        data\n",
            "1     science\n",
            "2         and\n",
            "3     machine\n",
            "4    learning\n",
            "dtype: object\n"
          ]
        }
      ],
      "source": [
        "import pandas as pd\n",
        "x=pd.Series(['data','science','and','machine','learning'])\n",
        "print(x)"
      ]
    },
    {
      "cell_type": "code",
      "source": [
        "import pandas as pd\n",
        "date_series=pd.date_range(start='05-01-2021',end='05-12-2021')\n",
        "\n",
        "print(date_series)"
      ],
      "metadata": {
        "colab": {
          "base_uri": "https://localhost:8080/"
        },
        "id": "mdSxp7JFpRnd",
        "outputId": "7137890b-5b89-4ce4-fb5f-5e87b483f48d"
      },
      "execution_count": null,
      "outputs": [
        {
          "output_type": "stream",
          "name": "stdout",
          "text": [
            "DatetimeIndex(['2021-05-01', '2021-05-02', '2021-05-03', '2021-05-04',\n",
            "               '2021-05-05', '2021-05-06', '2021-05-07', '2021-05-08',\n",
            "               '2021-05-09', '2021-05-10', '2021-05-11', '2021-05-12'],\n",
            "              dtype='datetime64[ns]', freq='D')\n"
          ]
        }
      ]
    },
    {
      "cell_type": "code",
      "source": [
        "import pandas as pd\n",
        "lists=[[2,'sree,23'],[1,'vis',21],[1,'lass',22]]\n",
        "dataframe=pd.DataFrame(lists,columns=['id','name','age'])\n",
        "print(dataframe)"
      ],
      "metadata": {
        "colab": {
          "base_uri": "https://localhost:8080/"
        },
        "id": "hQy2iEQYqLJU",
        "outputId": "ed3f0793-83fe-4260-dfb0-921ea62359bd"
      },
      "execution_count": null,
      "outputs": [
        {
          "output_type": "stream",
          "name": "stdout",
          "text": [
            "   id     name   age\n",
            "0   2  sree,23   NaN\n",
            "1   1      vis  21.0\n",
            "2   1     lass  22.0\n"
          ]
        }
      ]
    }
  ]
}